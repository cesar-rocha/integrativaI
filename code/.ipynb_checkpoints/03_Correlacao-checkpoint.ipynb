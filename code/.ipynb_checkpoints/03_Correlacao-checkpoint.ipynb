{
 "cells": [
  {
   "cell_type": "code",
   "execution_count": 1,
   "id": "3eeb5e47-bbf3-4a56-9fdc-7d67882d3e8f",
   "metadata": {},
   "outputs": [],
   "source": [
    "# Módulo/bibliotecas utilizadas\n",
    "import numpy as np\n",
    "import pandas as pd\n",
    "import datetime\n",
    "import matplotlib.pyplot as plt"
   ]
  },
  {
   "cell_type": "code",
   "execution_count": 3,
   "id": "e23e798f-3119-4624-9469-e929f0b8efea",
   "metadata": {},
   "outputs": [],
   "source": [
    "# Define caminhos de input e output\n",
    "URL = ''   # url de dados (input)\n",
    "IMG_PATH  = '../img/'                  # diretório de imagens (output)"
   ]
  },
  {
   "cell_type": "code",
   "execution_count": null,
   "id": "5b5ad073-08a9-4eed-a242-1fdb223663c1",
   "metadata": {},
   "outputs": [],
   "source": []
  }
 ],
 "metadata": {
  "kernelspec": {
   "display_name": "Python 3 (ipykernel)",
   "language": "python",
   "name": "python3"
  },
  "language_info": {
   "codemirror_mode": {
    "name": "ipython",
    "version": 3
   },
   "file_extension": ".py",
   "mimetype": "text/x-python",
   "name": "python",
   "nbconvert_exporter": "python",
   "pygments_lexer": "ipython3",
   "version": "3.10.6"
  }
 },
 "nbformat": 4,
 "nbformat_minor": 5
}
