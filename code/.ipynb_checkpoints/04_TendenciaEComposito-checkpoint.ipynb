{
 "cells": [
  {
   "cell_type": "code",
   "execution_count": 2,
   "id": "4408b571-46ed-4910-8b13-112dbd6c3bf4",
   "metadata": {},
   "outputs": [],
   "source": [
    "# Módulo/bibliotecas utilizadas\n",
    "import numpy as np\n",
    "import pandas as pd\n",
    "import datetime\n",
    "import matplotlib.pyplot as plt"
   ]
  },
  {
   "cell_type": "code",
   "execution_count": 3,
   "id": "577cf624-b915-4703-8b30-53efc77b4f86",
   "metadata": {},
   "outputs": [],
   "source": [
    "# Define caminhos de input e output\n",
    "URL = 'https://scrippsco2.ucsd.edu/assets/data/atmospheric/stations/in_situ_co2/monthly/monthly_in_situ_co2_mlo.csv'   # url de dados (input)\n",
    "IMG_PATH  = '../img/' "
   ]
  },
  {
   "cell_type": "code",
   "execution_count": 4,
   "id": "4a20784d-8690-400e-84c2-20b5f8041e25",
   "metadata": {},
   "outputs": [],
   "source": [
    "cols = ['year','month','date_excel','date','CO2[ppm]', \n",
    "        'seasonally_adjusted','fit','seasonally_adjusted_fit',\n",
    "        'CO2_filled','seasonally_adjusted_filled','station']\n",
    "\n",
    "df = pd.read_csv(URL,header=63, names=cols,usecols=['year', 'month','date_excel','date','CO2[ppm]'])"
   ]
  },
  {
   "cell_type": "code",
   "execution_count": 6,
   "id": "dd381196-bf37-4299-a989-0796e8d1d53e",
   "metadata": {},
   "outputs": [],
   "source": [
    "# Substitui flag -99.99 (ausência de dados por NaN)\n",
    "df[df['CO2[ppm]']==-99.99] = np.nan\n",
    "\n",
    "# Remove NaNs\n",
    "df = df.dropna()\n",
    "\n",
    "# Indexa dataframe com a data\n",
    "df = df.set_index('date')"
   ]
  },
  {
   "cell_type": "code",
   "execution_count": 7,
   "id": "2bb637a2-1713-4e80-9a10-3f2f4eafe698",
   "metadata": {},
   "outputs": [
    {
     "data": {
      "text/html": [
       "<div>\n",
       "<style scoped>\n",
       "    .dataframe tbody tr th:only-of-type {\n",
       "        vertical-align: middle;\n",
       "    }\n",
       "\n",
       "    .dataframe tbody tr th {\n",
       "        vertical-align: top;\n",
       "    }\n",
       "\n",
       "    .dataframe thead th {\n",
       "        text-align: right;\n",
       "    }\n",
       "</style>\n",
       "<table border=\"1\" class=\"dataframe\">\n",
       "  <thead>\n",
       "    <tr style=\"text-align: right;\">\n",
       "      <th></th>\n",
       "      <th>year</th>\n",
       "      <th>month</th>\n",
       "      <th>date_excel</th>\n",
       "      <th>CO2[ppm]</th>\n",
       "    </tr>\n",
       "    <tr>\n",
       "      <th>date</th>\n",
       "      <th></th>\n",
       "      <th></th>\n",
       "      <th></th>\n",
       "      <th></th>\n",
       "    </tr>\n",
       "  </thead>\n",
       "  <tbody>\n",
       "    <tr>\n",
       "      <th>1958.2027</th>\n",
       "      <td>1958.0</td>\n",
       "      <td>3.0</td>\n",
       "      <td>21259.0</td>\n",
       "      <td>315.71</td>\n",
       "    </tr>\n",
       "    <tr>\n",
       "      <th>1958.2877</th>\n",
       "      <td>1958.0</td>\n",
       "      <td>4.0</td>\n",
       "      <td>21290.0</td>\n",
       "      <td>317.45</td>\n",
       "    </tr>\n",
       "    <tr>\n",
       "      <th>1958.3699</th>\n",
       "      <td>1958.0</td>\n",
       "      <td>5.0</td>\n",
       "      <td>21320.0</td>\n",
       "      <td>317.51</td>\n",
       "    </tr>\n",
       "    <tr>\n",
       "      <th>1958.5370</th>\n",
       "      <td>1958.0</td>\n",
       "      <td>7.0</td>\n",
       "      <td>21381.0</td>\n",
       "      <td>315.87</td>\n",
       "    </tr>\n",
       "    <tr>\n",
       "      <th>1958.6219</th>\n",
       "      <td>1958.0</td>\n",
       "      <td>8.0</td>\n",
       "      <td>21412.0</td>\n",
       "      <td>314.93</td>\n",
       "    </tr>\n",
       "    <tr>\n",
       "      <th>...</th>\n",
       "      <td>...</td>\n",
       "      <td>...</td>\n",
       "      <td>...</td>\n",
       "      <td>...</td>\n",
       "    </tr>\n",
       "    <tr>\n",
       "      <th>2023.8740</th>\n",
       "      <td>2023.0</td>\n",
       "      <td>11.0</td>\n",
       "      <td>45245.0</td>\n",
       "      <td>420.12</td>\n",
       "    </tr>\n",
       "    <tr>\n",
       "      <th>2023.9562</th>\n",
       "      <td>2023.0</td>\n",
       "      <td>12.0</td>\n",
       "      <td>45275.0</td>\n",
       "      <td>421.65</td>\n",
       "    </tr>\n",
       "    <tr>\n",
       "      <th>2024.0410</th>\n",
       "      <td>2024.0</td>\n",
       "      <td>1.0</td>\n",
       "      <td>45306.0</td>\n",
       "      <td>422.62</td>\n",
       "    </tr>\n",
       "    <tr>\n",
       "      <th>2024.1257</th>\n",
       "      <td>2024.0</td>\n",
       "      <td>2.0</td>\n",
       "      <td>45337.0</td>\n",
       "      <td>424.35</td>\n",
       "    </tr>\n",
       "    <tr>\n",
       "      <th>2024.2049</th>\n",
       "      <td>2024.0</td>\n",
       "      <td>3.0</td>\n",
       "      <td>45366.0</td>\n",
       "      <td>425.22</td>\n",
       "    </tr>\n",
       "  </tbody>\n",
       "</table>\n",
       "<p>788 rows × 4 columns</p>\n",
       "</div>"
      ],
      "text/plain": [
       "             year  month  date_excel  CO2[ppm]\n",
       "date                                          \n",
       "1958.2027  1958.0    3.0     21259.0    315.71\n",
       "1958.2877  1958.0    4.0     21290.0    317.45\n",
       "1958.3699  1958.0    5.0     21320.0    317.51\n",
       "1958.5370  1958.0    7.0     21381.0    315.87\n",
       "1958.6219  1958.0    8.0     21412.0    314.93\n",
       "...           ...    ...         ...       ...\n",
       "2023.8740  2023.0   11.0     45245.0    420.12\n",
       "2023.9562  2023.0   12.0     45275.0    421.65\n",
       "2024.0410  2024.0    1.0     45306.0    422.62\n",
       "2024.1257  2024.0    2.0     45337.0    424.35\n",
       "2024.2049  2024.0    3.0     45366.0    425.22\n",
       "\n",
       "[788 rows x 4 columns]"
      ]
     },
     "execution_count": 7,
     "metadata": {},
     "output_type": "execute_result"
    }
   ],
   "source": [
    "df"
   ]
  },
  {
   "cell_type": "code",
   "execution_count": 8,
   "id": "ffa19952-fd36-4d40-b9db-ec6a67c410a2",
   "metadata": {},
   "outputs": [
    {
     "data": {
      "text/plain": [
       "Text(0.5, 1.0, 'CO$_2$ atmosférico em Manua Loa, Havaí')"
      ]
     },
     "execution_count": 8,
     "metadata": {},
     "output_type": "execute_result"
    },
    {
     "data": {
      "image/png": "[encoded data removed]",
      "text/plain": [
       "<Figure size 600x400 with 1 Axes>"
      ]
     },
     "metadata": {},
     "output_type": "display_data"
    }
   ],
   "source": [
    "fig, ax = plt.subplots(figsize=(6,4))\n",
    "\n",
    "df['CO2[ppm]'].plot(ax=ax)\n",
    "ax.set_ylabel(r'CO$_2$ [ppm]')\n",
    "ax.set_xlabel(' ')\n",
    "ax.set_title('CO$_2$ atmosférico em Manua Loa, Havaí')"
   ]
  },
  {
   "cell_type": "code",
   "execution_count": 26,
   "id": "99d5dcc9-5a39-42f9-a055-b6f7a6788f5b",
   "metadata": {},
   "outputs": [],
   "source": [
    "y = df['CO2[ppm]'].values         # CO2\n",
    "t = (df.index-df.index[0]).values # tempo em fração de ano"
   ]
  },
  {
   "cell_type": "code",
   "execution_count": 29,
   "id": "495dfd57-b935-4316-9da2-bed22dc1aaa5",
   "metadata": {},
   "outputs": [],
   "source": [
    "A = np.ones((len(t),2))\n",
    "A[:,1] = t"
   ]
  },
  {
   "cell_type": "code",
   "execution_count": 34,
   "id": "3b4b0a9b-c4d0-4e6a-9249-12e5fb3926f7",
   "metadata": {},
   "outputs": [],
   "source": [
    "ATA = A.T@A"
   ]
  },
  {
   "cell_type": "code",
   "execution_count": 32,
   "id": "563e4746-3245-4f98-a476-14887e31ca85",
   "metadata": {},
   "outputs": [
    {
     "data": {
      "text/plain": [
       "array([[7.88000000e+02, 2.61526207e+04],\n",
       "       [2.61526207e+04, 1.15221792e+06]])"
      ]
     },
     "execution_count": 32,
     "metadata": {},
     "output_type": "execute_result"
    }
   ],
   "source": []
  },
  {
   "cell_type": "code",
   "execution_count": null,
   "id": "dafff474-acc7-4ee3-bfc6-1b8428496ec8",
   "metadata": {},
   "outputs": [],
   "source": []
  }
 ],
 "metadata": {
  "kernelspec": {
   "display_name": "Python 3 (ipykernel)",
   "language": "python",
   "name": "python3"
  },
  "language_info": {
   "codemirror_mode": {
    "name": "ipython",
    "version": 3
   },
   "file_extension": ".py",
   "mimetype": "text/x-python",
   "name": "python",
   "nbconvert_exporter": "python",
   "pygments_lexer": "ipython3",
   "version": "3.10.6"
  }
 },
 "nbformat": 4,
 "nbformat_minor": 5
}
