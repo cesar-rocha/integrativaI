{
 "cells": [
  {
   "cell_type": "code",
   "execution_count": 27,
   "id": "78513421-6abb-41c8-b111-39269e115337",
   "metadata": {},
   "outputs": [],
   "source": [
    "# Módulo/bibliotecas utilizadas\n",
    "import numpy as np\n",
    "import pandas as pd\n",
    "import datetime\n",
    "import matplotlib.pyplot as plt"
   ]
  },
  {
   "cell_type": "code",
   "execution_count": 44,
   "id": "c8f3957f-d02a-440e-bfd7-0d5172840c26",
   "metadata": {},
   "outputs": [],
   "source": [
    "# Define caminhos de input e output\n",
    "URL = 'https://scrippsco2.ucsd.edu/assets/data/atmospheric/stations/in_situ_co2/monthly/monthly_in_situ_co2_mlo.csv'   # url de dados (input)\n",
    "IMG_PATH  = '../img/'                  # diretório de imagens (output)"
   ]
  },
  {
   "cell_type": "code",
   "execution_count": 45,
   "id": "c0e02c14-6c8f-46fd-93f1-4f861f03b30d",
   "metadata": {},
   "outputs": [],
   "source": [
    "cols = ['year','month','date_excel','date','CO2[ppm]', \n",
    "        'seasonally_adjusted','fit','seasonally_adjusted_fit',\n",
    "        'CO2_filled','seasonally_adjusted_filled','station']\n",
    "\n",
    "df = pd.read_csv(URL,header=63, names=cols,usecols=['year', 'month','date_excel','date','CO2[ppm]'])"
   ]
  },
  {
   "cell_type": "code",
   "execution_count": 46,
   "id": "f7cfe015-c4e9-4359-8f2c-8cc2565b57d4",
   "metadata": {},
   "outputs": [
    {
     "data": {
      "text/html": [
       "<div>\n",
       "<style scoped>\n",
       "    .dataframe tbody tr th:only-of-type {\n",
       "        vertical-align: middle;\n",
       "    }\n",
       "\n",
       "    .dataframe tbody tr th {\n",
       "        vertical-align: top;\n",
       "    }\n",
       "\n",
       "    .dataframe thead th {\n",
       "        text-align: right;\n",
       "    }\n",
       "</style>\n",
       "<table border=\"1\" class=\"dataframe\">\n",
       "  <thead>\n",
       "    <tr style=\"text-align: right;\">\n",
       "      <th></th>\n",
       "      <th>year</th>\n",
       "      <th>month</th>\n",
       "      <th>date_excel</th>\n",
       "      <th>date</th>\n",
       "      <th>CO2[ppm]</th>\n",
       "    </tr>\n",
       "  </thead>\n",
       "  <tbody>\n",
       "    <tr>\n",
       "      <th>0</th>\n",
       "      <td>1958</td>\n",
       "      <td>1</td>\n",
       "      <td>21200</td>\n",
       "      <td>1958.0411</td>\n",
       "      <td>-99.99</td>\n",
       "    </tr>\n",
       "    <tr>\n",
       "      <th>1</th>\n",
       "      <td>1958</td>\n",
       "      <td>2</td>\n",
       "      <td>21231</td>\n",
       "      <td>1958.1260</td>\n",
       "      <td>-99.99</td>\n",
       "    </tr>\n",
       "    <tr>\n",
       "      <th>2</th>\n",
       "      <td>1958</td>\n",
       "      <td>3</td>\n",
       "      <td>21259</td>\n",
       "      <td>1958.2027</td>\n",
       "      <td>315.71</td>\n",
       "    </tr>\n",
       "    <tr>\n",
       "      <th>3</th>\n",
       "      <td>1958</td>\n",
       "      <td>4</td>\n",
       "      <td>21290</td>\n",
       "      <td>1958.2877</td>\n",
       "      <td>317.45</td>\n",
       "    </tr>\n",
       "    <tr>\n",
       "      <th>4</th>\n",
       "      <td>1958</td>\n",
       "      <td>5</td>\n",
       "      <td>21320</td>\n",
       "      <td>1958.3699</td>\n",
       "      <td>317.51</td>\n",
       "    </tr>\n",
       "    <tr>\n",
       "      <th>...</th>\n",
       "      <td>...</td>\n",
       "      <td>...</td>\n",
       "      <td>...</td>\n",
       "      <td>...</td>\n",
       "      <td>...</td>\n",
       "    </tr>\n",
       "    <tr>\n",
       "      <th>799</th>\n",
       "      <td>2024</td>\n",
       "      <td>8</td>\n",
       "      <td>45519</td>\n",
       "      <td>2024.6230</td>\n",
       "      <td>-99.99</td>\n",
       "    </tr>\n",
       "    <tr>\n",
       "      <th>800</th>\n",
       "      <td>2024</td>\n",
       "      <td>9</td>\n",
       "      <td>45550</td>\n",
       "      <td>2024.7077</td>\n",
       "      <td>-99.99</td>\n",
       "    </tr>\n",
       "    <tr>\n",
       "      <th>801</th>\n",
       "      <td>2024</td>\n",
       "      <td>10</td>\n",
       "      <td>45580</td>\n",
       "      <td>2024.7896</td>\n",
       "      <td>-99.99</td>\n",
       "    </tr>\n",
       "    <tr>\n",
       "      <th>802</th>\n",
       "      <td>2024</td>\n",
       "      <td>11</td>\n",
       "      <td>45611</td>\n",
       "      <td>2024.8743</td>\n",
       "      <td>-99.99</td>\n",
       "    </tr>\n",
       "    <tr>\n",
       "      <th>803</th>\n",
       "      <td>2024</td>\n",
       "      <td>12</td>\n",
       "      <td>45641</td>\n",
       "      <td>2024.9563</td>\n",
       "      <td>-99.99</td>\n",
       "    </tr>\n",
       "  </tbody>\n",
       "</table>\n",
       "<p>804 rows × 5 columns</p>\n",
       "</div>"
      ],
      "text/plain": [
       "     year  month  date_excel       date  CO2[ppm]\n",
       "0    1958      1       21200  1958.0411    -99.99\n",
       "1    1958      2       21231  1958.1260    -99.99\n",
       "2    1958      3       21259  1958.2027    315.71\n",
       "3    1958      4       21290  1958.2877    317.45\n",
       "4    1958      5       21320  1958.3699    317.51\n",
       "..    ...    ...         ...        ...       ...\n",
       "799  2024      8       45519  2024.6230    -99.99\n",
       "800  2024      9       45550  2024.7077    -99.99\n",
       "801  2024     10       45580  2024.7896    -99.99\n",
       "802  2024     11       45611  2024.8743    -99.99\n",
       "803  2024     12       45641  2024.9563    -99.99\n",
       "\n",
       "[804 rows x 5 columns]"
      ]
     },
     "execution_count": 46,
     "metadata": {},
     "output_type": "execute_result"
    }
   ],
   "source": [
    "df"
   ]
  },
  {
   "cell_type": "code",
   "execution_count": 47,
   "id": "103dbb2f-b4f6-4011-99c3-38dcec758178",
   "metadata": {},
   "outputs": [
    {
     "data": {
      "text/plain": [
       "<AxesSubplot:>"
      ]
     },
     "execution_count": 47,
     "metadata": {},
     "output_type": "execute_result"
    },
    {
     "data": {
      "image/png": "[encoded data removed]",
      "text/plain": [
       "<Figure size 640x480 with 1 Axes>"
      ]
     },
     "metadata": {},
     "output_type": "display_data"
    }
   ],
   "source": [
    "df['CO2[ppm]'].plot()"
   ]
  },
  {
   "cell_type": "code",
   "execution_count": 48,
   "id": "4dd0f9be-c6e1-432a-b28a-3dcc9fda448d",
   "metadata": {},
   "outputs": [],
   "source": [
    "# Substitui flag -99.99 (ausência de dados por NaN)\n",
    "df[df['CO2[ppm]']==-99.99] = np.nan"
   ]
  },
  {
   "cell_type": "code",
   "execution_count": 51,
   "id": "ef1a4efc-d298-4b1b-a3de-2f166a47f411",
   "metadata": {},
   "outputs": [],
   "source": [
    "df2 = df.set_index('date')"
   ]
  },
  {
   "cell_type": "code",
   "execution_count": 58,
   "id": "b92c74dc-1c67-4d91-af3f-0e6ae7b43bea",
   "metadata": {},
   "outputs": [
    {
     "data": {
      "text/plain": [
       "Text(0.5, 0, ' ')"
      ]
     },
     "execution_count": 58,
     "metadata": {},
     "output_type": "execute_result"
    },
    {
     "data": {
      "image/png": "[encoded data removed]",
      "text/plain": [
       "<Figure size 600x400 with 1 Axes>"
      ]
     },
     "metadata": {},
     "output_type": "display_data"
    }
   ],
   "source": [
    "fig, ax = plt.subplots(figsize=(6,4))\n",
    "\n",
    "df2['CO2[ppm]'].plot(ax=ax)\n",
    "ax.set_ylabel(r'CO$_2$ [ppm]')\n",
    "ax.set_xlabel(' ')\n",
    "ax.set_title('')"
   ]
  },
  {
   "cell_type": "code",
   "execution_count": 57,
   "id": "dffce408-1382-427e-9f6b-c3b014c256d9",
   "metadata": {},
   "outputs": [
    {
     "data": {
      "text/html": [
       "<div>\n",
       "<style scoped>\n",
       "    .dataframe tbody tr th:only-of-type {\n",
       "        vertical-align: middle;\n",
       "    }\n",
       "\n",
       "    .dataframe tbody tr th {\n",
       "        vertical-align: top;\n",
       "    }\n",
       "\n",
       "    .dataframe thead th {\n",
       "        text-align: right;\n",
       "    }\n",
       "</style>\n",
       "<table border=\"1\" class=\"dataframe\">\n",
       "  <thead>\n",
       "    <tr style=\"text-align: right;\">\n",
       "      <th></th>\n",
       "      <th>year</th>\n",
       "      <th>month</th>\n",
       "      <th>date_excel</th>\n",
       "      <th>date</th>\n",
       "      <th>CO2[ppm]</th>\n",
       "    </tr>\n",
       "  </thead>\n",
       "  <tbody>\n",
       "    <tr>\n",
       "      <th>0</th>\n",
       "      <td>NaN</td>\n",
       "      <td>NaN</td>\n",
       "      <td>NaN</td>\n",
       "      <td>NaN</td>\n",
       "      <td>NaN</td>\n",
       "    </tr>\n",
       "    <tr>\n",
       "      <th>1</th>\n",
       "      <td>NaN</td>\n",
       "      <td>NaN</td>\n",
       "      <td>NaN</td>\n",
       "      <td>NaN</td>\n",
       "      <td>NaN</td>\n",
       "    </tr>\n",
       "    <tr>\n",
       "      <th>2</th>\n",
       "      <td>1958.0</td>\n",
       "      <td>3.0</td>\n",
       "      <td>21259.0</td>\n",
       "      <td>1958.2027</td>\n",
       "      <td>315.71</td>\n",
       "    </tr>\n",
       "    <tr>\n",
       "      <th>3</th>\n",
       "      <td>1958.0</td>\n",
       "      <td>4.0</td>\n",
       "      <td>21290.0</td>\n",
       "      <td>1958.2877</td>\n",
       "      <td>317.45</td>\n",
       "    </tr>\n",
       "    <tr>\n",
       "      <th>4</th>\n",
       "      <td>1958.0</td>\n",
       "      <td>5.0</td>\n",
       "      <td>21320.0</td>\n",
       "      <td>1958.3699</td>\n",
       "      <td>317.51</td>\n",
       "    </tr>\n",
       "    <tr>\n",
       "      <th>...</th>\n",
       "      <td>...</td>\n",
       "      <td>...</td>\n",
       "      <td>...</td>\n",
       "      <td>...</td>\n",
       "      <td>...</td>\n",
       "    </tr>\n",
       "    <tr>\n",
       "      <th>799</th>\n",
       "      <td>NaN</td>\n",
       "      <td>NaN</td>\n",
       "      <td>NaN</td>\n",
       "      <td>NaN</td>\n",
       "      <td>NaN</td>\n",
       "    </tr>\n",
       "    <tr>\n",
       "      <th>800</th>\n",
       "      <td>NaN</td>\n",
       "      <td>NaN</td>\n",
       "      <td>NaN</td>\n",
       "      <td>NaN</td>\n",
       "      <td>NaN</td>\n",
       "    </tr>\n",
       "    <tr>\n",
       "      <th>801</th>\n",
       "      <td>NaN</td>\n",
       "      <td>NaN</td>\n",
       "      <td>NaN</td>\n",
       "      <td>NaN</td>\n",
       "      <td>NaN</td>\n",
       "    </tr>\n",
       "    <tr>\n",
       "      <th>802</th>\n",
       "      <td>NaN</td>\n",
       "      <td>NaN</td>\n",
       "      <td>NaN</td>\n",
       "      <td>NaN</td>\n",
       "      <td>NaN</td>\n",
       "    </tr>\n",
       "    <tr>\n",
       "      <th>803</th>\n",
       "      <td>NaN</td>\n",
       "      <td>NaN</td>\n",
       "      <td>NaN</td>\n",
       "      <td>NaN</td>\n",
       "      <td>NaN</td>\n",
       "    </tr>\n",
       "  </tbody>\n",
       "</table>\n",
       "<p>804 rows × 5 columns</p>\n",
       "</div>"
      ],
      "text/plain": [
       "       year  month  date_excel       date  CO2[ppm]\n",
       "0       NaN    NaN         NaN        NaN       NaN\n",
       "1       NaN    NaN         NaN        NaN       NaN\n",
       "2    1958.0    3.0     21259.0  1958.2027    315.71\n",
       "3    1958.0    4.0     21290.0  1958.2877    317.45\n",
       "4    1958.0    5.0     21320.0  1958.3699    317.51\n",
       "..      ...    ...         ...        ...       ...\n",
       "799     NaN    NaN         NaN        NaN       NaN\n",
       "800     NaN    NaN         NaN        NaN       NaN\n",
       "801     NaN    NaN         NaN        NaN       NaN\n",
       "802     NaN    NaN         NaN        NaN       NaN\n",
       "803     NaN    NaN         NaN        NaN       NaN\n",
       "\n",
       "[804 rows x 5 columns]"
      ]
     },
     "execution_count": 57,
     "metadata": {},
     "output_type": "execute_result"
    }
   ],
   "source": [
    "df"
   ]
  },
  {
   "cell_type": "code",
   "execution_count": null,
   "id": "8406d8ff-052a-4624-829e-14dc9a9ea3e3",
   "metadata": {},
   "outputs": [],
   "source": []
  }
 ],
 "metadata": {
  "kernelspec": {
   "display_name": "Python 3 (ipykernel)",
   "language": "python",
   "name": "python3"
  },
  "language_info": {
   "codemirror_mode": {
    "name": "ipython",
    "version": 3
   },
   "file_extension": ".py",
   "mimetype": "text/x-python",
   "name": "python",
   "nbconvert_exporter": "python",
   "pygments_lexer": "ipython3",
   "version": "3.10.6"
  }
 },
 "nbformat": 4,
 "nbformat_minor": 5
}
